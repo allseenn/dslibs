{
 "cells": [
  {
   "cell_type": "markdown",
   "id": "4171adfe",
   "metadata": {},
   "source": [
    "# Домашнее задание к теме 5\n",
    "\n",
    "## Задание 1\n",
    "\n",
    "Импортируйте библиотеки pandas, numpy и matplotlib."
   ]
  },
  {
   "cell_type": "code",
   "execution_count": 1,
   "id": "8e96898e",
   "metadata": {},
   "outputs": [],
   "source": [
    "import pandas as pd\n",
    "import numpy as np\n",
    "import matplotlib.pyplot as plt"
   ]
  },
  {
   "cell_type": "markdown",
   "id": "34f69dc9",
   "metadata": {},
   "source": [
    "Загрузите \"Boston House Prices dataset\" из встроенных наборов данных библиотеки sklearn. "
   ]
  },
  {
   "cell_type": "code",
   "execution_count": 2,
   "id": "4abe8827",
   "metadata": {},
   "outputs": [
    {
     "data": {
      "text/html": [
       "<div>\n",
       "<style scoped>\n",
       "    .dataframe tbody tr th:only-of-type {\n",
       "        vertical-align: middle;\n",
       "    }\n",
       "\n",
       "    .dataframe tbody tr th {\n",
       "        vertical-align: top;\n",
       "    }\n",
       "\n",
       "    .dataframe thead th {\n",
       "        text-align: right;\n",
       "    }\n",
       "</style>\n",
       "<table border=\"1\" class=\"dataframe\">\n",
       "  <thead>\n",
       "    <tr style=\"text-align: right;\">\n",
       "      <th></th>\n",
       "      <th>CRIM</th>\n",
       "      <th>ZN</th>\n",
       "      <th>INDUS</th>\n",
       "      <th>CHAS</th>\n",
       "      <th>NOX</th>\n",
       "      <th>RM</th>\n",
       "      <th>AGE</th>\n",
       "      <th>DIS</th>\n",
       "      <th>RAD</th>\n",
       "      <th>TAX</th>\n",
       "      <th>PTRATIO</th>\n",
       "      <th>B</th>\n",
       "      <th>LSTAT</th>\n",
       "    </tr>\n",
       "  </thead>\n",
       "  <tbody>\n",
       "    <tr>\n",
       "      <th>0</th>\n",
       "      <td>0.00632</td>\n",
       "      <td>18.0</td>\n",
       "      <td>2.31</td>\n",
       "      <td>0.0</td>\n",
       "      <td>0.538</td>\n",
       "      <td>6.575</td>\n",
       "      <td>65.2</td>\n",
       "      <td>4.0900</td>\n",
       "      <td>1.0</td>\n",
       "      <td>296.0</td>\n",
       "      <td>15.3</td>\n",
       "      <td>396.90</td>\n",
       "      <td>4.98</td>\n",
       "    </tr>\n",
       "    <tr>\n",
       "      <th>1</th>\n",
       "      <td>0.02731</td>\n",
       "      <td>0.0</td>\n",
       "      <td>7.07</td>\n",
       "      <td>0.0</td>\n",
       "      <td>0.469</td>\n",
       "      <td>6.421</td>\n",
       "      <td>78.9</td>\n",
       "      <td>4.9671</td>\n",
       "      <td>2.0</td>\n",
       "      <td>242.0</td>\n",
       "      <td>17.8</td>\n",
       "      <td>396.90</td>\n",
       "      <td>9.14</td>\n",
       "    </tr>\n",
       "    <tr>\n",
       "      <th>2</th>\n",
       "      <td>0.02729</td>\n",
       "      <td>0.0</td>\n",
       "      <td>7.07</td>\n",
       "      <td>0.0</td>\n",
       "      <td>0.469</td>\n",
       "      <td>7.185</td>\n",
       "      <td>61.1</td>\n",
       "      <td>4.9671</td>\n",
       "      <td>2.0</td>\n",
       "      <td>242.0</td>\n",
       "      <td>17.8</td>\n",
       "      <td>392.83</td>\n",
       "      <td>4.03</td>\n",
       "    </tr>\n",
       "    <tr>\n",
       "      <th>3</th>\n",
       "      <td>0.03237</td>\n",
       "      <td>0.0</td>\n",
       "      <td>2.18</td>\n",
       "      <td>0.0</td>\n",
       "      <td>0.458</td>\n",
       "      <td>6.998</td>\n",
       "      <td>45.8</td>\n",
       "      <td>6.0622</td>\n",
       "      <td>3.0</td>\n",
       "      <td>222.0</td>\n",
       "      <td>18.7</td>\n",
       "      <td>394.63</td>\n",
       "      <td>2.94</td>\n",
       "    </tr>\n",
       "    <tr>\n",
       "      <th>4</th>\n",
       "      <td>0.06905</td>\n",
       "      <td>0.0</td>\n",
       "      <td>2.18</td>\n",
       "      <td>0.0</td>\n",
       "      <td>0.458</td>\n",
       "      <td>7.147</td>\n",
       "      <td>54.2</td>\n",
       "      <td>6.0622</td>\n",
       "      <td>3.0</td>\n",
       "      <td>222.0</td>\n",
       "      <td>18.7</td>\n",
       "      <td>396.90</td>\n",
       "      <td>5.33</td>\n",
       "    </tr>\n",
       "  </tbody>\n",
       "</table>\n",
       "</div>"
      ],
      "text/plain": [
       "      CRIM    ZN  INDUS  CHAS    NOX     RM   AGE     DIS  RAD    TAX  \\\n",
       "0  0.00632  18.0   2.31   0.0  0.538  6.575  65.2  4.0900  1.0  296.0   \n",
       "1  0.02731   0.0   7.07   0.0  0.469  6.421  78.9  4.9671  2.0  242.0   \n",
       "2  0.02729   0.0   7.07   0.0  0.469  7.185  61.1  4.9671  2.0  242.0   \n",
       "3  0.03237   0.0   2.18   0.0  0.458  6.998  45.8  6.0622  3.0  222.0   \n",
       "4  0.06905   0.0   2.18   0.0  0.458  7.147  54.2  6.0622  3.0  222.0   \n",
       "\n",
       "   PTRATIO       B  LSTAT  \n",
       "0     15.3  396.90   4.98  \n",
       "1     17.8  396.90   9.14  \n",
       "2     17.8  392.83   4.03  \n",
       "3     18.7  394.63   2.94  \n",
       "4     18.7  396.90   5.33  "
      ]
     },
     "execution_count": 2,
     "metadata": {},
     "output_type": "execute_result"
    }
   ],
   "source": [
    "import warnings\n",
    "warnings.filterwarnings('ignore')\n",
    "import requests\n",
    "url = \"http://lib.stat.cmu.edu/datasets/boston\"\n",
    "text = requests.get(url).text.split('\\n')\n",
    "feature_names = [line.split()[0] for line in text[7:21]]\n",
    "DESCR = \"\\n\".join(text[:21])\n",
    "lines1 = [line.split() for line in text[22::2]]\n",
    "lines2 = [line.split() for line in text[23::2]]\n",
    "table = [a + b for a, b in zip(lines1, lines2)]\n",
    "data = pd.DataFrame()\n",
    "for line in table:\n",
    "    line = [i.strip() for i in line]\n",
    "    data = data._append(pd.Series(line, index=feature_names), ignore_index=True)\n",
    "\n",
    "data = data.astype(float)\n",
    "target = data['MEDV'].to_numpy()\n",
    "data.drop('MEDV', axis=1, inplace=True)\n",
    "feature_names = feature_names[:-1]\n",
    "data.head()"
   ]
  },
  {
   "cell_type": "markdown",
   "id": "a67ca454",
   "metadata": {},
   "source": [
    "Создайте датафреймы X и y из этих данных.\n",
    "Разбейте эти датафреймы на тренировочные (X_train, y_train) и тестовые (X_test, y_test) с помощью функции train_test_split так, чтобы размер тестовой выборки составлял 20% от всех данных, при этом аргумент random_state должен быть равен 42."
   ]
  },
  {
   "cell_type": "code",
   "execution_count": 3,
   "id": "66eac0f1",
   "metadata": {},
   "outputs": [],
   "source": [
    "from sklearn.model_selection import train_test_split\n",
    "X_train, X_test, y_train, y_test = train_test_split(data, target, test_size=0.2, random_state=42)"
   ]
  },
  {
   "cell_type": "markdown",
   "id": "aa797205",
   "metadata": {},
   "source": [
    "Масштабируйте данные с помощью StandardScaler."
   ]
  },
  {
   "cell_type": "code",
   "execution_count": 4,
   "id": "4a7290b4",
   "metadata": {},
   "outputs": [],
   "source": [
    "from sklearn.preprocessing import StandardScaler\n",
    "scaler = StandardScaler(with_mean=False)\n",
    "X_train_scaled = scaler.fit_transform(X_train)\n",
    "X_test_scaled = scaler.transform(X_test)"
   ]
  },
  {
   "cell_type": "markdown",
   "id": "098333a6",
   "metadata": {},
   "source": [
    "Постройте модель TSNE на тренировочный данных с параметрами:\n",
    "\n",
    "n_components=2, learning_rate=250, random_state=42."
   ]
  },
  {
   "cell_type": "code",
   "execution_count": 5,
   "id": "322dc3e2",
   "metadata": {},
   "outputs": [
    {
     "data": {
      "text/plain": [
       "(404, 2)"
      ]
     },
     "execution_count": 5,
     "metadata": {},
     "output_type": "execute_result"
    }
   ],
   "source": [
    "from sklearn.manifold import TSNE\n",
    "tsne = TSNE(n_components=2, learning_rate=250, random_state=42)\n",
    "X_train_tsne = tsne.fit_transform(X_train_scaled)\n",
    "X_train_tsne.shape"
   ]
  },
  {
   "cell_type": "markdown",
   "id": "9adbc6f7",
   "metadata": {},
   "source": [
    "Постройте диаграмму рассеяния на этих данных."
   ]
  },
  {
   "cell_type": "code",
   "execution_count": 6,
   "id": "4d50a6e2",
   "metadata": {},
   "outputs": [
    {
     "data": {
      "image/png": "[encoded data removed]",
      "text/plain": [
       "<Figure size 640x480 with 1 Axes>"
      ]
     },
     "metadata": {},
     "output_type": "display_data"
    }
   ],
   "source": [
    "plt.scatter(X_train_tsne[:, 0], X_train_tsne[:, 1])\n",
    "plt.show()"
   ]
  },
  {
   "cell_type": "markdown",
   "id": "3b8a3712",
   "metadata": {},
   "source": [
    "## Задание 2\n",
    "\n",
    "С помощью KMeans разбейте данные из тренировочного набора на 3 кластера, используйте все признаки из датафрейма X_train."
   ]
  },
  {
   "cell_type": "code",
   "execution_count": 7,
   "id": "62e45e6f",
   "metadata": {},
   "outputs": [],
   "source": [
    "from  sklearn.cluster import KMeans\n",
    "kmeans = KMeans(n_clusters=3)\n",
    "labels_train = kmeans.fit_predict(X_train_scaled)"
   ]
  },
  {
   "cell_type": "markdown",
   "id": "21091a50",
   "metadata": {},
   "source": [
    "Постройте еще раз диаграмму рассеяния на данных, полученных с помощью TSNE, и раскрасьте точки из разных кластеров разными цветами."
   ]
  },
  {
   "cell_type": "code",
   "execution_count": 8,
   "id": "74b79b50",
   "metadata": {},
   "outputs": [
    {
     "data": {
      "image/png": "[encoded data removed]",
      "text/plain": [
       "<Figure size 640x480 with 1 Axes>"
      ]
     },
     "metadata": {},
     "output_type": "display_data"
    }
   ],
   "source": [
    "plt.scatter(X_train_tsne[:, 0], X_train_tsne[:, 1], c=labels_train)\n",
    "plt.show()"
   ]
  },
  {
   "cell_type": "markdown",
   "id": "0c432c45",
   "metadata": {},
   "source": [
    "Вычислите средние значения price и CRIM в разных кластерах."
   ]
  },
  {
   "cell_type": "code",
   "execution_count": 9,
   "id": "c0a89df1",
   "metadata": {},
   "outputs": [
    {
     "data": {
      "text/plain": [
       "28.099999999999994"
      ]
     },
     "execution_count": 9,
     "metadata": {},
     "output_type": "execute_result"
    }
   ],
   "source": [
    "y_train[labels_train == 0].mean()"
   ]
  },
  {
   "cell_type": "code",
   "execution_count": 10,
   "id": "0a33e3f8",
   "metadata": {},
   "outputs": [
    {
     "data": {
      "text/plain": [
       "2.553170503768035"
      ]
     },
     "execution_count": 10,
     "metadata": {},
     "output_type": "execute_result"
    }
   ],
   "source": [
    "X_train_scaled[labels_train == 0][0].mean()"
   ]
  },
  {
   "cell_type": "code",
   "execution_count": 11,
   "id": "0ec0f45a",
   "metadata": {},
   "outputs": [
    {
     "data": {
      "text/plain": [
       "16.225"
      ]
     },
     "execution_count": 11,
     "metadata": {},
     "output_type": "execute_result"
    }
   ],
   "source": [
    "y_train[labels_train == 1].mean()"
   ]
  },
  {
   "cell_type": "code",
   "execution_count": 12,
   "id": "84fe9b84",
   "metadata": {},
   "outputs": [
    {
     "data": {
      "text/plain": [
       "3.439448504191554"
      ]
     },
     "execution_count": 12,
     "metadata": {},
     "output_type": "execute_result"
    }
   ],
   "source": [
    "X_train_scaled[labels_train == 1][0].mean()"
   ]
  },
  {
   "cell_type": "code",
   "execution_count": 13,
   "id": "be37b113",
   "metadata": {},
   "outputs": [
    {
     "data": {
      "text/plain": [
       "22.128947368421052"
      ]
     },
     "execution_count": 13,
     "metadata": {},
     "output_type": "execute_result"
    }
   ],
   "source": [
    "y_train[labels_train == 2].mean()"
   ]
  },
  {
   "cell_type": "code",
   "execution_count": 14,
   "id": "6240265c",
   "metadata": {},
   "outputs": [
    {
     "data": {
      "text/plain": [
       "2.7281352733916853"
      ]
     },
     "execution_count": 14,
     "metadata": {},
     "output_type": "execute_result"
    }
   ],
   "source": [
    "X_train_scaled[labels_train == 2][0].mean()"
   ]
  },
  {
   "cell_type": "markdown",
   "id": "20146b21",
   "metadata": {},
   "source": [
    "Второй кластер (индекс 1) имеет самую дешевую недвижимость и самый высокий индекс преступности"
   ]
  },
  {
   "cell_type": "markdown",
   "id": "0ef4231f",
   "metadata": {},
   "source": [
    "## * Задание 3\n",
    "\n",
    "Примените модель KMeans, построенную в предыдущем задании, к данным из тестового набора."
   ]
  },
  {
   "cell_type": "code",
   "execution_count": 15,
   "id": "663998bb",
   "metadata": {},
   "outputs": [],
   "source": [
    "labels_test = kmeans.predict(X_test_scaled)"
   ]
  },
  {
   "cell_type": "markdown",
   "id": "72de130e",
   "metadata": {},
   "source": [
    "Вычислите средние значения price и CRIM в разных кластерах на тестовых данных."
   ]
  },
  {
   "cell_type": "code",
   "execution_count": 16,
   "id": "2c5f64c4",
   "metadata": {},
   "outputs": [
    {
     "data": {
      "text/plain": [
       "27.455555555555556"
      ]
     },
     "execution_count": 16,
     "metadata": {},
     "output_type": "execute_result"
    }
   ],
   "source": [
    "y_test[labels_test == 0].mean()"
   ]
  },
  {
   "cell_type": "code",
   "execution_count": 17,
   "id": "dd0c1d86",
   "metadata": {},
   "outputs": [
    {
     "data": {
      "text/plain": [
       "2.9010536496646293"
      ]
     },
     "execution_count": 17,
     "metadata": {},
     "output_type": "execute_result"
    }
   ],
   "source": [
    "X_test_scaled[labels_test == 0][0].mean()"
   ]
  },
  {
   "cell_type": "code",
   "execution_count": 18,
   "id": "a326a9b8",
   "metadata": {},
   "outputs": [
    {
     "data": {
      "text/plain": [
       "16.421212121212125"
      ]
     },
     "execution_count": 18,
     "metadata": {},
     "output_type": "execute_result"
    }
   ],
   "source": [
    "y_test[labels_test == 1].mean()"
   ]
  },
  {
   "cell_type": "code",
   "execution_count": 19,
   "id": "e5c55769",
   "metadata": {},
   "outputs": [
    {
     "data": {
      "text/plain": [
       "3.281999400623945"
      ]
     },
     "execution_count": 19,
     "metadata": {},
     "output_type": "execute_result"
    }
   ],
   "source": [
    "X_test_scaled[labels_test == 1][0].mean()"
   ]
  },
  {
   "cell_type": "code",
   "execution_count": 20,
   "id": "a2e936b9",
   "metadata": {},
   "outputs": [
    {
     "data": {
      "text/plain": [
       "20.045454545454547"
      ]
     },
     "execution_count": 20,
     "metadata": {},
     "output_type": "execute_result"
    }
   ],
   "source": [
    "y_test[labels_test == 2].mean()"
   ]
  },
  {
   "cell_type": "code",
   "execution_count": 21,
   "id": "9e33f74c",
   "metadata": {},
   "outputs": [
    {
     "data": {
      "text/plain": [
       "2.5895407371325914"
      ]
     },
     "execution_count": 21,
     "metadata": {},
     "output_type": "execute_result"
    }
   ],
   "source": [
    "X_test_scaled[labels_test == 2][0].mean()"
   ]
  },
  {
   "cell_type": "markdown",
   "id": "0646530e",
   "metadata": {},
   "source": [
    "Как и с тренеровочными данными, второй кластер (индекс 1) имеет самую дешевую недвижимость и самый высокий индекс преступности.\n",
    "\n",
    "**Выводы**: Чем выше стоимость недвижимости в районах Бостона, тем ниже там уровень преступности."
   ]
  }
 ],
 "metadata": {
  "kernelspec": {
   "display_name": "Python 3 (ipykernel)",
   "language": "python",
   "name": "python3"
  },
  "language_info": {
   "codemirror_mode": {
    "name": "ipython",
    "version": 3
   },
   "file_extension": ".py",
   "mimetype": "text/x-python",
   "name": "python",
   "nbconvert_exporter": "python",
   "pygments_lexer": "ipython3",
   "version": "3.9.18"
  }
 },
 "nbformat": 4,
 "nbformat_minor": 5
}
